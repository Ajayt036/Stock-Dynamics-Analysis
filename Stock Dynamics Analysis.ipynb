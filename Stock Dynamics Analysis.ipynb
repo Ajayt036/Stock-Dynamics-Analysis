{
 "cells": [
  {
   "cell_type": "markdown",
   "id": "791c8347",
   "metadata": {},
   "source": [
    "# Stock Dynamics Analysis"
   ]
  },
  {
   "cell_type": "markdown",
   "id": "c75a62e4",
   "metadata": {},
   "source": [
    "A stock market is where buyers and sellers trade shares of a company, and is one of the most popular ways for individuals and companies to invest money. The size of the world stock market  is now estimated to be in the trillions. The largest stock market in the world is the New York Stock Exchange (NYSE), located in New York City. About 2,800 companies were listed on the NSYE at the time time of this data xtarcted. In this problem, we'll look at the monthly stock prices of five of these companies: IBM, General Electric (GE), Procter and Gamble, Coca Cola, and Boeinga and create someisngiths and studies out of it with analysis and visulization. The data used in this problem comes from Infochimps.\n",
    "\n",
    "All data set will have same fillowing variable to keep the parity amoing all data sets for clear comparison.\n",
    "\n",
    "- Date: the date of the stock price, always given as the first of the month.\n",
    "- StockPrice: the average stock price of the company in the given month.\n",
    "\n",
    "\n"
   ]
  },
  {
   "cell_type": "markdown",
   "id": "38577b94",
   "metadata": {},
   "source": [
    "### Agenda:\n",
    "    \n",
    "- Load, observe, summarise the data sets\n",
    "- Changing date formats compatible to pandas, and extract Date and years columns\n",
    "- Analyse price of each Company on plot chart.\n",
    "- Observe trends of stiock prices  from 1970 tO 201o.\n",
    "- Comparison of one company's stock price to the other.\n",
    "- Impact of 2000 Global Technogy buuuble in the stock price of each of five company\n",
    "- Impact of 1997 Asian Economy Mini Crash Ton the stock price of each of five company"
   ]
  },
  {
   "cell_type": "markdown",
   "id": "05476501",
   "metadata": {},
   "source": [
    "### Libraries \n",
    "Installing all required libraries to be used in our analysis and visulization."
   ]
  },
  {
   "cell_type": "code",
   "execution_count": 8,
   "id": "86c74403",
   "metadata": {},
   "outputs": [],
   "source": [
    "import pandas as pd\n",
    "import numpy as np\n",
    "import matplotlib.pyplot as plt\n",
    "%matplotlib inline"
   ]
  },
  {
   "cell_type": "markdown",
   "id": "7eb4a53f",
   "metadata": {},
   "source": [
    "### Loading data sets.\n",
    "Laoding data set of each comapny to start our Analaysis."
   ]
  },
  {
   "cell_type": "code",
   "execution_count": 15,
   "id": "726b1dcb",
   "metadata": {},
   "outputs": [],
   "source": [
    "IBM = pd.read_csv(\"IBMStock.csv\")\n",
    "GE = pd.read_csv(\"GEStock.csv\")\n",
    "PG = pd.read_csv(\"ProcterGambleStock.csv\")\n",
    "CocaCola = pd.read_csv(\"CocaColaStock.csv\")\n",
    "Boeing = pd.read_csv(\"BoeingStock.csv\")"
   ]
  },
  {
   "cell_type": "markdown",
   "id": "8c83a933",
   "metadata": {},
   "source": [
    "### Summary \n",
    "Visulizing summary of one random data set, data frame of second, and length of any other random dataset to get an gist of our data sets before going ahead."
   ]
  },
  {
   "cell_type": "code",
   "execution_count": 10,
   "id": "187beb5b",
   "metadata": {},
   "outputs": [
    {
     "data": {
      "text/plain": [
       "480"
      ]
     },
     "execution_count": 10,
     "metadata": {},
     "output_type": "execute_result"
    }
   ],
   "source": [
    "len(CocaCola)"
   ]
  },
  {
   "cell_type": "code",
   "execution_count": 5,
   "id": "873f81ef",
   "metadata": {},
   "outputs": [
    {
     "data": {
      "text/html": [
       "<div>\n",
       "<style scoped>\n",
       "    .dataframe tbody tr th:only-of-type {\n",
       "        vertical-align: middle;\n",
       "    }\n",
       "\n",
       "    .dataframe tbody tr th {\n",
       "        vertical-align: top;\n",
       "    }\n",
       "\n",
       "    .dataframe thead th {\n",
       "        text-align: right;\n",
       "    }\n",
       "</style>\n",
       "<table border=\"1\" class=\"dataframe\">\n",
       "  <thead>\n",
       "    <tr style=\"text-align: right;\">\n",
       "      <th></th>\n",
       "      <th>Date</th>\n",
       "      <th>StockPrice</th>\n",
       "    </tr>\n",
       "  </thead>\n",
       "  <tbody>\n",
       "    <tr>\n",
       "      <th>0</th>\n",
       "      <td>1/1/1970</td>\n",
       "      <td>360.319048</td>\n",
       "    </tr>\n",
       "    <tr>\n",
       "      <th>1</th>\n",
       "      <td>2/1/1970</td>\n",
       "      <td>346.723684</td>\n",
       "    </tr>\n",
       "    <tr>\n",
       "      <th>2</th>\n",
       "      <td>3/1/1970</td>\n",
       "      <td>327.345714</td>\n",
       "    </tr>\n",
       "    <tr>\n",
       "      <th>3</th>\n",
       "      <td>4/1/1970</td>\n",
       "      <td>319.852727</td>\n",
       "    </tr>\n",
       "    <tr>\n",
       "      <th>4</th>\n",
       "      <td>5/1/1970</td>\n",
       "      <td>270.375238</td>\n",
       "    </tr>\n",
       "  </tbody>\n",
       "</table>\n",
       "</div>"
      ],
      "text/plain": [
       "       Date  StockPrice\n",
       "0  1/1/1970  360.319048\n",
       "1  2/1/1970  346.723684\n",
       "2  3/1/1970  327.345714\n",
       "3  4/1/1970  319.852727\n",
       "4  5/1/1970  270.375238"
      ]
     },
     "execution_count": 5,
     "metadata": {},
     "output_type": "execute_result"
    }
   ],
   "source": [
    "IBM.head()"
   ]
  },
  {
   "cell_type": "code",
   "execution_count": 14,
   "id": "08312c2e",
   "metadata": {},
   "outputs": [
    {
     "data": {
      "text/plain": [
       "(480, 2)"
      ]
     },
     "execution_count": 14,
     "metadata": {},
     "output_type": "execute_result"
    }
   ],
   "source": [
    "PG.shape"
   ]
  },
  {
   "cell_type": "markdown",
   "id": "91ab1ce4",
   "metadata": {},
   "source": [
    "### Changing Data format into Pandas\n",
    "Date column in each data set has combined month, date  and years written in one single column. Lets change the date format to datetime format compatible to pandas to extract Years and month into differents columns."
   ]
  },
  {
   "cell_type": "code",
   "execution_count": 20,
   "id": "9b6b5f0c",
   "metadata": {},
   "outputs": [
    {
     "data": {
      "text/html": [
       "<div>\n",
       "<style scoped>\n",
       "    .dataframe tbody tr th:only-of-type {\n",
       "        vertical-align: middle;\n",
       "    }\n",
       "\n",
       "    .dataframe tbody tr th {\n",
       "        vertical-align: top;\n",
       "    }\n",
       "\n",
       "    .dataframe thead th {\n",
       "        text-align: right;\n",
       "    }\n",
       "</style>\n",
       "<table border=\"1\" class=\"dataframe\">\n",
       "  <thead>\n",
       "    <tr style=\"text-align: right;\">\n",
       "      <th></th>\n",
       "      <th>Date</th>\n",
       "      <th>StockPrice</th>\n",
       "      <th>Year</th>\n",
       "      <th>Month</th>\n",
       "    </tr>\n",
       "  </thead>\n",
       "  <tbody>\n",
       "    <tr>\n",
       "      <th>0</th>\n",
       "      <td>1970-01-01</td>\n",
       "      <td>360.319048</td>\n",
       "      <td>1970</td>\n",
       "      <td>January</td>\n",
       "    </tr>\n",
       "    <tr>\n",
       "      <th>1</th>\n",
       "      <td>1970-02-01</td>\n",
       "      <td>346.723684</td>\n",
       "      <td>1970</td>\n",
       "      <td>February</td>\n",
       "    </tr>\n",
       "    <tr>\n",
       "      <th>2</th>\n",
       "      <td>1970-03-01</td>\n",
       "      <td>327.345714</td>\n",
       "      <td>1970</td>\n",
       "      <td>March</td>\n",
       "    </tr>\n",
       "    <tr>\n",
       "      <th>3</th>\n",
       "      <td>1970-04-01</td>\n",
       "      <td>319.852727</td>\n",
       "      <td>1970</td>\n",
       "      <td>April</td>\n",
       "    </tr>\n",
       "    <tr>\n",
       "      <th>4</th>\n",
       "      <td>1970-05-01</td>\n",
       "      <td>270.375238</td>\n",
       "      <td>1970</td>\n",
       "      <td>May</td>\n",
       "    </tr>\n",
       "  </tbody>\n",
       "</table>\n",
       "</div>"
      ],
      "text/plain": [
       "        Date  StockPrice  Year     Month\n",
       "0 1970-01-01  360.319048  1970   January\n",
       "1 1970-02-01  346.723684  1970  February\n",
       "2 1970-03-01  327.345714  1970     March\n",
       "3 1970-04-01  319.852727  1970     April\n",
       "4 1970-05-01  270.375238  1970       May"
      ]
     },
     "execution_count": 20,
     "metadata": {},
     "output_type": "execute_result"
    }
   ],
   "source": [
    "IBM[\"Date\"] = pd.to_datetime(IBM[\"Date\"])\n",
    "IBM[\"Year\"] = IBM[\"Date\"].dt.year\n",
    "IBM[\"Month\"] = IBM[\"Date\"].dt.month_name(locale='English')\n",
    "\n",
    "PG[\"Date\"] = pd.to_datetime(PG[\"Date\"])\n",
    "PG[\"Year\"] = PG[\"Date\"].dt.year\n",
    "PG[\"Month\"] = PG[\"Date\"].dt.month_name(locale='English')\n",
    "\n",
    "Boeing[\"Date\"] = pd.to_datetime(Boeing[\"Date\"])\n",
    "Boeing[\"Year\"] = Boeing[\"Date\"].dt.year\n",
    "Boeing[\"Month\"] = Boeing[\"Date\"].dt.month_name(locale='English')\n",
    "\n",
    "GE[\"Date\"] = pd.to_datetime(GE[\"Date\"])\n",
    "GE[\"Year\"] = GE[\"Date\"].dt.year\n",
    "GE[\"Month\"] = GE[\"Date\"].dt.month_name(locale='English')\n",
    "\n",
    "CocaCola[\"Date\"] = pd.to_datetime(CocaCola[\"Date\"])\n",
    "CocaCola[\"Year\"] = CocaCola[\"Date\"].dt.year\n",
    "CocaCola[\"Month\"] = CocaCola[\"Date\"].dt.month_name(locale='English')\n",
    "\n",
    "IBM.head()"
   ]
  },
  {
   "cell_type": "markdown",
   "id": "45e93a5c",
   "metadata": {},
   "source": [
    "### Earliest and Latest Data\n",
    "Lets find the the the earliest date and Latest date in our data set for our understanding "
   ]
  },
  {
   "cell_type": "code",
   "execution_count": 21,
   "id": "bd0c75a6",
   "metadata": {},
   "outputs": [
    {
     "data": {
      "text/plain": [
       "Timestamp('1970-01-01 00:00:00')"
      ]
     },
     "execution_count": 21,
     "metadata": {},
     "output_type": "execute_result"
    }
   ],
   "source": [
    "IBM.Date.iloc[0]"
   ]
  },
  {
   "cell_type": "code",
   "execution_count": 22,
   "id": "d8281ef9",
   "metadata": {},
   "outputs": [
    {
     "data": {
      "text/plain": [
       "Timestamp('2009-12-01 00:00:00')"
      ]
     },
     "execution_count": 22,
     "metadata": {},
     "output_type": "execute_result"
    }
   ],
   "source": [
    "IBM.Date.iloc[-1]"
   ]
  },
  {
   "cell_type": "code",
   "execution_count": 23,
   "id": "9bcdc366",
   "metadata": {},
   "outputs": [
    {
     "data": {
      "text/plain": [
       "1970"
      ]
     },
     "execution_count": 23,
     "metadata": {},
     "output_type": "execute_result"
    }
   ],
   "source": [
    "IBM.Year.iloc[0]"
   ]
  },
  {
   "cell_type": "code",
   "execution_count": 24,
   "id": "b0a3d070",
   "metadata": {},
   "outputs": [
    {
     "data": {
      "text/plain": [
       "2009"
      ]
     },
     "execution_count": 24,
     "metadata": {},
     "output_type": "execute_result"
    }
   ],
   "source": [
    "IBM.Year.iloc[-1]"
   ]
  },
  {
   "cell_type": "markdown",
   "id": "f1d0037c",
   "metadata": {},
   "source": [
    "### Max, Min, Mean, Median and SD \n",
    "Lets find the the the maximun, minimum, average and standard deviation of different data set for our understanding."
   ]
  },
  {
   "cell_type": "code",
   "execution_count": 25,
   "id": "72623cf7",
   "metadata": {},
   "outputs": [
    {
     "data": {
      "text/plain": [
       "146.5842857"
      ]
     },
     "execution_count": 25,
     "metadata": {},
     "output_type": "execute_result"
    }
   ],
   "source": [
    "CocaCola.StockPrice.max()"
   ]
  },
  {
   "cell_type": "code",
   "execution_count": 27,
   "id": "d5dadb1e",
   "metadata": {},
   "outputs": [
    {
     "data": {
      "text/plain": [
       "146.58"
      ]
     },
     "execution_count": 27,
     "metadata": {},
     "output_type": "execute_result"
    }
   ],
   "source": [
    "#To write it better, rounding up the value upto two decimal points.\n",
    "round(float(CocaCola.StockPrice.max()),2)"
   ]
  },
  {
   "cell_type": "code",
   "execution_count": 28,
   "id": "56abbaae",
   "metadata": {},
   "outputs": [
    {
     "data": {
      "text/plain": [
       "46.88"
      ]
     },
     "execution_count": 28,
     "metadata": {},
     "output_type": "execute_result"
    }
   ],
   "source": [
    "#Minmum stock price of PG\n",
    "round(float(PG.StockPrice.min()),2)"
   ]
  },
  {
   "cell_type": "code",
   "execution_count": 32,
   "id": "4a4c13d1",
   "metadata": {},
   "outputs": [
    {
     "data": {
      "text/plain": [
       "77.7"
      ]
     },
     "execution_count": 32,
     "metadata": {},
     "output_type": "execute_result"
    }
   ],
   "source": [
    "#Mean Stock Price of Boeing\n",
    "round(float(Boeing.StockPrice.mean()),2)"
   ]
  },
  {
   "cell_type": "code",
   "execution_count": 33,
   "id": "5fdf02be",
   "metadata": {},
   "outputs": [
    {
     "data": {
      "text/plain": [
       "112.11459525000001"
      ]
     },
     "execution_count": 33,
     "metadata": {},
     "output_type": "execute_result"
    }
   ],
   "source": [
    "#Median Stock Price of IBM\n",
    "IBM.StockPrice.median()"
   ]
  },
  {
   "cell_type": "code",
   "execution_count": 37,
   "id": "e237b706",
   "metadata": {},
   "outputs": [
    {
     "data": {
      "text/plain": [
       "19.89"
      ]
     },
     "execution_count": 37,
     "metadata": {},
     "output_type": "execute_result"
    }
   ],
   "source": [
    "#Standard deviation of stock price of Boeing\n",
    "round(float(Boeing.StockPrice.std()),2)"
   ]
  },
  {
   "cell_type": "markdown",
   "id": "c817e6fc",
   "metadata": {},
   "source": [
    "### Ploting stock Price of CocaCola\n",
    "Lets put stock price of CocaCola on the plot chart to observe the trend of its Stock proce over the from 1970 to 2010"
   ]
  },
  {
   "cell_type": "code",
   "execution_count": 44,
   "id": "893fe7d4",
   "metadata": {},
   "outputs": [
    {
     "data": {
      "image/png": "[encoded data removed]",
      "text/plain": [
       "<Figure size 432x288 with 1 Axes>"
      ]
     },
     "metadata": {
      "needs_background": "light"
     },
     "output_type": "display_data"
    }
   ],
   "source": [
    "plt.plot(CocaCola.Year, CocaCola.StockPrice,\"o\")\n",
    "plt.xlabel(\"Year\")\n",
    "plt.ylabel(\"Stock Price\")\n",
    "plt.title (\"Stock Price of CocaCola\")\n",
    "plt.show()"
   ]
  },
  {
   "cell_type": "markdown",
   "id": "b7d875cc",
   "metadata": {},
   "source": [
    "##### We can observe the overall decreasing trend in the stock price of CocaCola from 1970 to 2010. 1972 witnessed the highest stock price whereas 1980 the lowest"
   ]
  },
  {
   "cell_type": "markdown",
   "id": "1ac47801",
   "metadata": {},
   "source": [
    "### Ploting stock Price of  Procter and Gamble\n",
    "Lets out one more Plot chart to observe one more trend, and this time we will keep the chart in lines to for easy observations"
   ]
  },
  {
   "cell_type": "code",
   "execution_count": 40,
   "id": "705c3ad4",
   "metadata": {},
   "outputs": [
    {
     "data": {
      "image/png": "[encoded data removed]",
      "text/plain": [
       "<Figure size 432x288 with 1 Axes>"
      ]
     },
     "metadata": {
      "needs_background": "light"
     },
     "output_type": "display_data"
    }
   ],
   "source": [
    "plt.plot(PG.Year, PG.StockPrice,\"-\")\n",
    "plt.xlabel(\"Year\")\n",
    "plt.ylabel(\"Stock Price\")\n",
    "plt.title (\"Stock Price of PG\")\n",
    "plt.show()"
   ]
  },
  {
   "cell_type": "markdown",
   "id": "3dcfd168",
   "metadata": {},
   "source": [
    "We can observe the overall Constant Performance in the stock price of PG from 1970 to 2010. 1996 witnessed the highest stock price whereas 2009 the lowest"
   ]
  },
  {
   "cell_type": "markdown",
   "id": "c5d6800b",
   "metadata": {},
   "source": [
    "### Comparison of Stock Prices of Procter and Gamble and Coca Cola"
   ]
  },
  {
   "cell_type": "code",
   "execution_count": 45,
   "id": "ae6bebf7",
   "metadata": {},
   "outputs": [
    {
     "data": {
      "image/png": "[encoded data removed]",
      "text/plain": [
       "<Figure size 432x288 with 1 Axes>"
      ]
     },
     "metadata": {
      "needs_background": "light"
     },
     "output_type": "display_data"
    }
   ],
   "source": [
    "PG[\"Date\"] = pd.to_datetime(PG[\"Date\"])\n",
    "PG[\"Year\"] = PG[\"Date\"].dt.year\n",
    "\n",
    "Line1, = plt.plot(PG.Year, PG.StockPrice)\n",
    "Line2, = plt.plot(CocaCola.Year, CocaCola.StockPrice)\n",
    "plt.xlabel(\"Year\")\n",
    "plt.ylabel(\"Stock Price\")\n",
    "\n",
    "\n",
    "plt.title (\"Stock Price of CocaCola and PG\")\n",
    "plt.legend([Line1,Line2],[\"PG\",\"CocaCola\"])\n",
    "plt.show()"
   ]
  },
  {
   "cell_type": "markdown",
   "id": "1925fd88",
   "metadata": {},
   "source": [
    "###### Two lines, Each for different company can be seen on created plot. In March of 2000, the technology bubble burst worldwide, and a stock market crash occurred. According to our plot, The bubble impacted Coca Cola in a drastic way. It can be seen that after 2000, Stock prices of Procater and Gamble started to rise where as for Coca Cola, it started to fall."
   ]
  },
  {
   "cell_type": "markdown",
   "id": "233a80c4",
   "metadata": {},
   "source": [
    "### Impact of 2000 Technology bubble\n",
    "\n",
    "In Technogly bubble of 2000, Mnay comapny Stock prices started to crashed and Maany started to rise. We Will see this Impact all five companies."
   ]
  },
  {
   "cell_type": "code",
   "execution_count": 47,
   "id": "ee2a6837",
   "metadata": {},
   "outputs": [
    {
     "data": {
      "image/png": "[encoded data removed]",
      "text/plain": [
       "<Figure size 432x288 with 1 Axes>"
      ]
     },
     "metadata": {
      "needs_background": "light"
     },
     "output_type": "display_data"
    }
   ],
   "source": [
    "plt.plot(CocaCola.Year[301:432], CocaCola.StockPrice[301:432],label = \"CocaCola\")\n",
    "plt.plot(PG.Year[301:432], PG.StockPrice[301:432],label = \"PG\")\n",
    "plt.plot(Boeing.Year[301:432], Boeing.StockPrice[301:432],label = \"Boeing\")\n",
    "plt.plot(GE.Year[301:432], GE.StockPrice[301:432],label = \"GE\")\n",
    "plt.plot(IBM.Year[301:432], IBM.StockPrice[301:432],label = \"IBM\")\n",
    "\n",
    "plt.title (\"Stock Price of all comanies during Mini Asian Crash from Sep to Nov in 1997\")\n",
    "plt.xlabel(\"Month\")\n",
    "plt.ylabel(\"Stock Price\")\n",
    "plt.legend()\n",
    "plt.show()"
   ]
  },
  {
   "cell_type": "markdown",
   "id": "86acb7c4",
   "metadata": {},
   "source": [
    "###### It can be observed that General Electric stock Price was worst hit by the impact of 2005 Technogy buuble. There is a huge difference in the trends of General Electric stock price before and after 2000 Year"
   ]
  },
  {
   "cell_type": "markdown",
   "id": "49d12e04",
   "metadata": {},
   "source": [
    "### Impact of 1997 Asin Economy MiniCrash\n",
    "\n",
    "In October of 1997, there was a global stock market crash that was caused by an economic crisis in Asia. Comparing September 1997 to November 1997, Lets observe which companies saw a decreasing trend in their stock price?"
   ]
  },
  {
   "cell_type": "code",
   "execution_count": 46,
   "id": "111587bc",
   "metadata": {},
   "outputs": [
    {
     "data": {
      "image/png": "[encoded data removed]",
      "text/plain": [
       "<Figure size 432x288 with 1 Axes>"
      ]
     },
     "metadata": {
      "needs_background": "light"
     },
     "output_type": "display_data"
    }
   ],
   "source": [
    "plt.plot(CocaCola.Month[332:335], CocaCola.StockPrice[332:335],label = \"CocaCola\")\n",
    "plt.plot(PG.Month[332:335], PG.StockPrice[332:335],label = \"PG\")\n",
    "plt.plot(Boeing.Month[332:335], Boeing.StockPrice[332:335],label = \"Boeing\")\n",
    "plt.plot(GE.Month[332:335], GE.StockPrice[332:335],label = \"GE\")\n",
    "plt.plot(IBM.Month[332:335], IBM.StockPrice[332:335],label = \"IBM\")\n",
    "\n",
    "plt.title (\"Stock Price of all comanies during Mini Asian Crash from Sep to Nov in 1997\")\n",
    "plt.xlabel(\"Month\")\n",
    "plt.ylabel(\"Stock Price\")\n",
    "plt.legend()\n",
    "plt.show()"
   ]
  },
  {
   "cell_type": "markdown",
   "id": "2a050507",
   "metadata": {},
   "source": [
    "###### AS we Asian Mini crash of economy inpacted the stock Proce of beoing the most."
   ]
  }
 ],
 "metadata": {
  "kernelspec": {
   "display_name": "Python 3",
   "language": "python",
   "name": "python3"
  },
  "language_info": {
   "codemirror_mode": {
    "name": "ipython",
    "version": 3
   },
   "file_extension": ".py",
   "mimetype": "text/x-python",
   "name": "python",
   "nbconvert_exporter": "python",
   "pygments_lexer": "ipython3",
   "version": "3.8.8"
  }
 },
 "nbformat": 4,
 "nbformat_minor": 5
}
